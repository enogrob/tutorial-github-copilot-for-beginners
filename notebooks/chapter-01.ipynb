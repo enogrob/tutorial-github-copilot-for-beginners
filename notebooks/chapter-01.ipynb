{
 "cells": [
  {
   "cell_type": "markdown",
   "id": "48a9a71a",
   "metadata": {},
   "source": [
    "1. Write a function that will square numbers in a list"
   ]
  },
  {
   "cell_type": "code",
   "execution_count": 2,
   "id": "67980804",
   "metadata": {},
   "outputs": [
    {
     "name": "stdout",
     "output_type": "stream",
     "text": [
      "1\n",
      "4\n",
      "9\n",
      "16\n"
     ]
    }
   ],
   "source": [
    "def square_list(numbers)\n",
    "  numbers.map { |n| n * n }\n",
    "end\n",
    "nums = [1, 2, 3, 4]\n",
    "squared = square_list(nums)\n",
    "puts squared  # => [1, 4, 9, 16]"
   ]
  },
  {
   "cell_type": "markdown",
   "id": "262e02f6",
   "metadata": {},
   "source": [
    "2. That exclude negative numbers"
   ]
  },
  {
   "cell_type": "code",
   "execution_count": null,
   "id": "d0a77c90",
   "metadata": {},
   "outputs": [
    {
     "name": "stdout",
     "output_type": "stream",
     "text": [
      "0\n",
      "4\n",
      "25\n"
     ]
    }
   ],
   "source": [
    "# ...existing code...\n",
    "\n",
    "def square_list(numbers)\n",
    "  numbers\n",
    "    .select { |n| n >= 0 }    # exclude negatives\n",
    "    .map    { |n| n * n }\n",
    "end\n",
    "\n",
    "# Example usage:\n",
    "nums = [-3, -1, 0, 2, 5]\n",
    "puts square_list(nums)    # => [0, 4, 25]"
   ]
  },
  {
   "cell_type": "code",
   "execution_count": null,
   "id": "a0558d27",
   "metadata": {},
   "outputs": [],
   "source": []
  }
 ],
 "metadata": {
  "kernelspec": {
   "display_name": "Ruby 3 (iruby kernel)",
   "language": "ruby",
   "name": "ruby3"
  },
  "language_info": {
   "file_extension": ".rb",
   "mimetype": "application/x-ruby",
   "name": "ruby",
   "version": "3.2.2"
  }
 },
 "nbformat": 4,
 "nbformat_minor": 5
}
