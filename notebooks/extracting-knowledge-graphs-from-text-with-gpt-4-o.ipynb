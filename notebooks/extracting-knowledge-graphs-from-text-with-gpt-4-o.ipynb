{
 "cells": [
  {
   "cell_type": "code",
   "execution_count": null,
   "id": "d73353ec",
   "metadata": {},
   "outputs": [],
   "source": [
    "%pip install --upgrade langchain langchain-experimental langchain-openai python-dotenv pyvis"
   ]
  },
  {
   "cell_type": "code",
   "execution_count": 4,
   "id": "c2a3a5b2",
   "metadata": {},
   "outputs": [],
   "source": [
    "from dotenv import load_dotenv\n",
    "import os\n",
    "load_dotenv()\n",
    "api_key = os.getenv(\"OPENAI_API_KEY\")"
   ]
  },
  {
   "cell_type": "markdown",
   "id": "c64e3c8f",
   "metadata": {},
   "source": [
    "# LLM Graph Transformer \n",
    "Using GTP-4o in All examples."
   ]
  },
  {
   "cell_type": "code",
   "execution_count": 12,
   "id": "62930188",
   "metadata": {},
   "outputs": [],
   "source": [
    "from langchain_experimental.graph_transformers import LLMGraphTransformer\n",
    "from langchain_core.documents import Document\n",
    "from langchain_openai import ChatOpenAI\n",
    "\n",
    "llm = ChatOpenAI(model_name=\"gpt-4o\",temperature=0)\n",
    "graph_transformer = LLMGraphTransformer(llm=llm)"
   ]
  },
  {
   "cell_type": "code",
   "execution_count": 7,
   "id": "76f6e142",
   "metadata": {},
   "outputs": [],
   "source": [
    "text = \"\"\"\n",
    "Now the question is: Is there an energy which is not within the field of thought, which is not the result of self-contradictory, compulsive energy, of self-fulfillment as frustration? You understand the question? I hope I am making myself clear. Because, unless we find the quality of that energy which is not merely the product of thought that bit by bit creates the energy but also is mechanical, action is destructive, whether we do social reform, write excellent books, be very clever in business, or create nationalistic divisions and take part in other political activities and so on. Now, the question is whether there is such an energy, not theoretically—because when we are confronted with facts, to introduce theories is infantile, immature. It is like the case of a man who has cancer and is to be operated upon; it is no good discussing what kinds of instruments are to be used and all the rest of it; you have to face the fact that he is to be operated upon. So, similarly, a mind has to penetrate or be in such a state when the mind is not a slave to thought. After all, all thought in time is invention; all the gadgets, jets, the refrigerators, the rockets, the exploration into the atom, space, they are all the result of knowledge, thought. All these are not creation; invention is not creation; capacity is not creation; thought can never be creative because thought is always conditioned and can never be free. It is only that energy which is not the product of thought that is creative.\n",
    "\"\"\"\n"
   ]
  },
  {
   "cell_type": "code",
   "execution_count": 13,
   "id": "c3da5c7f",
   "metadata": {},
   "outputs": [],
   "source": [
    "documents = [Document(page_content=text)]\n",
    "graph_documents = await graph_transformer.aconvert_to_graph_documents(documents)"
   ]
  },
  {
   "cell_type": "code",
   "execution_count": 14,
   "id": "3673e952",
   "metadata": {},
   "outputs": [
    {
     "name": "stdout",
     "output_type": "stream",
     "text": [
      "Nodes:{graph_documents[0].nodes}\n",
      "Relationships:{graph_documents[0].relationships}\n"
     ]
    }
   ],
   "source": [
    "print(\"Nodes:{graph_documents[0].nodes}\")\n",
    "print(\"Relationships:{graph_documents[0].relationships}\")"
   ]
  }
 ],
 "metadata": {
  "kernelspec": {
   "display_name": "Python 3",
   "language": "python",
   "name": "python3"
  },
  "language_info": {
   "codemirror_mode": {
    "name": "ipython",
    "version": 3
   },
   "file_extension": ".py",
   "mimetype": "text/x-python",
   "name": "python",
   "nbconvert_exporter": "python",
   "pygments_lexer": "ipython3",
   "version": "3.9.6"
  }
 },
 "nbformat": 4,
 "nbformat_minor": 5
}
